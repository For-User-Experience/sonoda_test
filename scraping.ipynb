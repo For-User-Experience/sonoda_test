{
 "cells": [
  {
   "cell_type": "markdown",
   "metadata": {},
   "source": [
    "## スクレイピング\n",
    "任意のウェブサイトから情報を抽出するため、BeautifulSoupによるスクレイピングの例。BeautifulSoupでは、DOM要素、CSSセレクタ、正規表現などさまざまな方法でhtmlからの情報抽出を指定できる。この他に、RSSやAPIの利用、Seleniumによる自動クロール、PythonのScrapyモジュールなど、さまざまなスクレイピングの方法がある。また、スクレイピングの対象はテキストだけに限らず、タスク応じて任意のRawデータ、画像や動画などの収集を行うこともある。"
   ]
  },
  {
   "cell_type": "markdown",
   "metadata": {},
   "source": [
    "### boxil"
   ]
  },
  {
   "cell_type": "code",
   "execution_count": 88,
   "metadata": {
    "scrolled": true
   },
   "outputs": [
    {
     "name": "stdout",
     "output_type": "stream",
     "text": [
      "freeeはクラウド型会計ソフトの法人シェアで約6割を占めており、シェアNo.1のソフトとなっております。経理・簿記の知識がなくても簡単に決算書が作成でき、スマートフォンやMacなど、様々な環境で使うことができます。\n",
      "また、わからないことがあっても、すぐにチャットサポートに相談でき、無料でメールサポートも受けることができるため、安心です。\n",
      "\n",
      "\n",
      "業務ソフト売上実績No.1 の「弥生」が提供するクラウド会計ソフト。\n",
      "はじめてでもスグに使えて会計業務をとことん自動化・効率化します。\n",
      "個人事業主向け確定申告ソフト「やよいの青色申告 オンライン」もご用意しています。\n",
      "\n",
      "\n",
      "会計・確定申告ソフト「MFクラウド会計・確定申告」で法人会計、確定申告をラクにします。取引入力と仕訳の自動化で、作業時間を大幅削減。\n",
      "\n",
      "\n",
      "会計・経理をカンタンにするクラウド会計ソフトCrew\n",
      "\n",
      "\n",
      "\n",
      "MJSLINK NX-は、財務をコアに多彩な業務モジュールとシームレスに連携できるERPパッケージです。経営のトップが使う、各部門の担当者が使う。それぞれの立場にとってのツールとしての利便性を追求し、誰もが安心・安全に使えるERPを実現します。\n",
      "\n",
      "\n"
     ]
    }
   ],
   "source": [
    "from bs4 import BeautifulSoup\n",
    "import urllib.request as req\n",
    "import re\n",
    "\n",
    "url = \"https://boxil.jp/lc-accounting/sc-cloud_accounting/\"\n",
    "headers = {\"User-Agent\": \"Mozilla/5.0 (X11; Ubuntu; Linux x86_64; rv:47.0) Gecko/20100101 Firefox/47.0\"}\n",
    "#headers = { \"User-Agent\" :  \"Mozilla/4.0 (compatible; MSIE 5.5; Windows NT)\" }\n",
    "request = req.Request(url=url, headers=headers)\n",
    "res = req.urlopen(request)\n",
    "soup = BeautifulSoup(res, \"html.parser\")\n",
    "tools = soup.find_all(\"div\", class_= \"service-block\")\n",
    "for tool in tools[:5]:\n",
    "    description = tool.find(\"a\",class_=\"trunk8-service-description\").text\n",
    "    name = tool.find(\"a\",class_=\"text-link\").text\n",
    "    request = req.Request(url='https://boxil.jp'+tool.find('a', class_=\"service-logo-category-services\").attrs['href'], headers=headers)\n",
    "    res = req.urlopen(request)\n",
    "    soup = BeautifulSoup(res, \"html.parser\")\n",
    "    fees = soup.find_all(class_=\"service-plan-text service-plan-price\")\n",
    "    fees = [fee.text for fee in fees]\n",
    "    print(description)\n",
    "    print(\"\\n\")"
   ]
  },
  {
   "cell_type": "markdown",
   "metadata": {},
   "source": [
    "### wantedly"
   ]
  },
  {
   "cell_type": "code",
   "execution_count": 89,
   "metadata": {},
   "outputs": [
    {
     "name": "stdout",
     "output_type": "stream",
     "text": [
      "シェアNo.1 クラウド会計ソフト。AI・銀行連携で、拡大する業務を自動化。スタートアップから500名規模の中堅法人まで対応。\n",
      "\n",
      "\n",
      "複数の口座残高をまとめて一括管理し、食費や光熱費などのカテゴリに自動で分類・グラフ化する、新しいウェブサービスです。\n",
      "一度登録するだけで自動で情報を更新するので、お金の管理の煩わしさを解消できます。\n",
      "\n",
      "\n",
      "Bizerは総務・労務・経理等のバックオフィス業務遂行を簡単、スマートにするツールです。クラウド上で専門家（税理士、社労士、司法書士、他）がサポートします。会社設立から決算申告までおまかせください。\n",
      "\n",
      "\n",
      "クラウド上でできる、法人向けの会計ソフト。長時間かかる会計業務を短時間で完結。それにより他の業務に時間を割くことが可能になり、各社で業績アップに繋げてきた実績があります。取引明細は自動で入力。3600社以上の金融機関に対応。\n",
      "\n",
      "\n",
      "法人向けのオンラインの会計ソフト。会計の知識がなくても簡単に使えるため、起業したての人でも安心して利用することができます。取引の取込や仕分はすべて自動化。会計帳簿も自動で集計と作成が可能。\n",
      "\n",
      "\n"
     ]
    }
   ],
   "source": [
    "from bs4 import BeautifulSoup\n",
    "import urllib.request as req\n",
    "import re\n",
    "\n",
    "url = \"https://www.wantedly.com/tools/categories/accounting\"\n",
    "res = req.urlopen(url)\n",
    "soup = BeautifulSoup(res, \"html.parser\")\n",
    "tools = soup.find_all(\"a\", class_=\"tools-shared-tool-card\", href=re.compile(\"^/tools\"))\n",
    "for tool in tools[:5]:\n",
    "    res = req.urlopen('https://www.wantedly.com'+tool.attrs['href'])\n",
    "    soup = BeautifulSoup(res, \"html.parser\")\n",
    "    description = soup.find(\"div\",class_=\"tool-description\").text\n",
    "    name = tool.find(class_=\"tools-shared-tool-card-name\").text\n",
    "    category = tool.find(class_=\"tools-shared-tool-card-category\").text\n",
    "    fee = tool.find(class_=\"tools-shared-tool-card-usage-fee\").text\n",
    "    print(description)\n",
    "    print(\"\\n\")"
   ]
  },
  {
   "cell_type": "code",
   "execution_count": null,
   "metadata": {
    "collapsed": true
   },
   "outputs": [],
   "source": []
  }
 ],
 "metadata": {
  "kernelspec": {
   "display_name": "Python 3",
   "language": "python",
   "name": "python3"
  },
  "language_info": {
   "codemirror_mode": {
    "name": "ipython",
    "version": 3
   },
   "file_extension": ".py",
   "mimetype": "text/x-python",
   "name": "python",
   "nbconvert_exporter": "python",
   "pygments_lexer": "ipython3",
   "version": "3.6.1"
  }
 },
 "nbformat": 4,
 "nbformat_minor": 2
}
